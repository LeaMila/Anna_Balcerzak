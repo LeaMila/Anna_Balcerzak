{
  "nbformat": 4,
  "nbformat_minor": 0,
  "metadata": {
    "colab": {
      "provenance": [],
      "include_colab_link": true
    },
    "kernelspec": {
      "name": "python3",
      "display_name": "Python 3"
    },
    "language_info": {
      "name": "python"
    }
  },
  "cells": [
    {
      "cell_type": "markdown",
      "metadata": {
        "id": "view-in-github",
        "colab_type": "text"
      },
      "source": [
        "<a href=\"https://colab.research.google.com/github/LeaMila/Anna_Balcerzak/blob/main/Demo_loan_pred_API.ipynb\" target=\"_parent\"><img src=\"https://colab.research.google.com/assets/colab-badge.svg\" alt=\"Open In Colab\"/></a>"
      ]
    },
    {
      "cell_type": "code",
      "execution_count": null,
      "metadata": {
        "id": "CMCDtg3rP5Xq"
      },
      "outputs": [],
      "source": [
        "import requests"
      ]
    },
    {
      "cell_type": "code",
      "source": [
        "url = \"https://slide-musical-sociology-cloth.trycloudflare.com//predict\""
      ],
      "metadata": {
        "id": "75-ieTICQFT4"
      },
      "execution_count": null,
      "outputs": []
    },
    {
      "cell_type": "code",
      "source": [
        "data = {\n",
        "    \"ORGANIZATION_TYPE\": 1,\n",
        "    \"EXT_SOURCE_3\": 1,\n",
        "    \"EXT_SOURCE_2\": 1,\n",
        "    \"EXT_SOURCE_1\": 1,\n",
        "    \"AMT_CREDIT\": 1,\n",
        "    \"AMT_ANNUITY\": 1,\n",
        "    \"OCCUPATION_TYPE\": 1,\n",
        "    \"AMT_GOODS_PRICE\": 1,\n",
        "    \"DAYS_BIRTH\": 1,\n",
        "    \"installments_AMT_PAYMENT_min\": 1,\n",
        "    \"bureau_DAYS_CREDIT_max\": 1,\n",
        "    \"DAYS_EMPLOYED\": 1,\n",
        "    \"DAYS_ID_PUBLISH\": 1,\n",
        "    \"installments_AMT_PAYMENT_sum\": 1,\n",
        "    \"pos_cash_CNT_INSTALMENT_FUTURE_mean\": 1,\n",
        "    \"CODE_GENDER\": 1,\n",
        "    \"bureau_AMT_CREDIT_SUM_DEBT_mean\": 1,\n",
        "    \"bureau_DAYS_CREDIT_ENDDATE_max\": 1,\n",
        "    \"app_previous_CNT_PAYMENT_mean\": 1,\n",
        "    \"bureau_DAYS_ENDDATE_FACT_max\": 1,\n",
        "}\n",
        "\n",
        "response = requests.post(url, json=data)\n",
        "print(response.json())"
      ],
      "metadata": {
        "id": "9Ntly4HNQ3mo",
        "colab": {
          "base_uri": "https://localhost:8080/"
        },
        "outputId": "6ba92d5d-ab7b-4589-b8aa-3fffc6b611d6"
      },
      "execution_count": null,
      "outputs": [
        {
          "output_type": "stream",
          "name": "stdout",
          "text": [
            "{'loan_approval': False}\n"
          ]
        }
      ]
    },
    {
      "cell_type": "code",
      "source": [],
      "metadata": {
        "id": "7XB7nFoOkvjO"
      },
      "execution_count": null,
      "outputs": []
    },
    {
      "cell_type": "code",
      "source": [],
      "metadata": {
        "id": "nXPRZuu0kxBJ"
      },
      "execution_count": null,
      "outputs": []
    }
  ]
}