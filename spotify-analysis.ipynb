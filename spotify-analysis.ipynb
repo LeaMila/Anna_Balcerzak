{
 "cells": [
  {
   "cell_type": "code",
   "execution_count": 1,
   "id": "0e0964e9",
   "metadata": {
    "execution": {
     "iopub.execute_input": "2024-02-05T10:49:02.549544Z",
     "iopub.status.busy": "2024-02-05T10:49:02.548605Z",
     "iopub.status.idle": "2024-02-05T10:49:03.535232Z",
     "shell.execute_reply": "2024-02-05T10:49:03.533919Z"
    },
    "papermill": {
     "duration": 1.009939,
     "end_time": "2024-02-05T10:49:03.538271",
     "exception": false,
     "start_time": "2024-02-05T10:49:02.528332",
     "status": "completed"
    },
    "tags": []
   },
   "outputs": [],
   "source": [
    "import pandas as pd\n",
    "import numpy as np"
   ]
  },
  {
   "cell_type": "markdown",
   "id": "c3455286",
   "metadata": {
    "papermill": {
     "duration": 0.017146,
     "end_time": "2024-02-05T10:49:03.575061",
     "exception": false,
     "start_time": "2024-02-05T10:49:03.557915",
     "status": "completed"
    },
    "tags": []
   },
   "source": [
    "# 1. Collecting and preparing the data\n",
    "\n",
    "a) First I have downloaded the dataset from Kaggle \\\n",
    "b) Than I read the data into pandas DataFrame \\\n",
    "c) Latter on I check and clean the data as need. \n",
    "\n",
    "I have already downloaded the dataset, I'll go stright to the number b.\n"
   ]
  },
  {
   "cell_type": "code",
   "execution_count": 2,
   "id": "45e4bb14",
   "metadata": {
    "execution": {
     "iopub.execute_input": "2024-02-05T10:49:03.612482Z",
     "iopub.status.busy": "2024-02-05T10:49:03.611947Z",
     "iopub.status.idle": "2024-02-05T10:49:03.675531Z",
     "shell.execute_reply": "2024-02-05T10:49:03.674395Z"
    },
    "papermill": {
     "duration": 0.085203,
     "end_time": "2024-02-05T10:49:03.678321",
     "exception": false,
     "start_time": "2024-02-05T10:49:03.593118",
     "status": "completed"
    },
    "tags": []
   },
   "outputs": [
    {
     "data": {
      "text/html": [
       "<div>\n",
       "<style scoped>\n",
       "    .dataframe tbody tr th:only-of-type {\n",
       "        vertical-align: middle;\n",
       "    }\n",
       "\n",
       "    .dataframe tbody tr th {\n",
       "        vertical-align: top;\n",
       "    }\n",
       "\n",
       "    .dataframe thead th {\n",
       "        text-align: right;\n",
       "    }\n",
       "</style>\n",
       "<table border=\"1\" class=\"dataframe\">\n",
       "  <thead>\n",
       "    <tr style=\"text-align: right;\">\n",
       "      <th></th>\n",
       "      <th>Unnamed: 0</th>\n",
       "      <th>artist</th>\n",
       "      <th>album</th>\n",
       "      <th>track_name</th>\n",
       "      <th>track_id</th>\n",
       "      <th>energy</th>\n",
       "      <th>danceability</th>\n",
       "      <th>key</th>\n",
       "      <th>loudness</th>\n",
       "      <th>acousticness</th>\n",
       "      <th>speechiness</th>\n",
       "      <th>instrumentalness</th>\n",
       "      <th>liveness</th>\n",
       "      <th>valence</th>\n",
       "      <th>tempo</th>\n",
       "      <th>duration_ms</th>\n",
       "      <th>genre</th>\n",
       "    </tr>\n",
       "  </thead>\n",
       "  <tbody>\n",
       "    <tr>\n",
       "      <th>0</th>\n",
       "      <td>0</td>\n",
       "      <td>The Weeknd</td>\n",
       "      <td>After Hours</td>\n",
       "      <td>Blinding Lights</td>\n",
       "      <td>0VjIjW4GlUZAMYd2vXMi3b</td>\n",
       "      <td>0.730</td>\n",
       "      <td>0.514</td>\n",
       "      <td>1</td>\n",
       "      <td>-5.934</td>\n",
       "      <td>0.00146</td>\n",
       "      <td>0.0598</td>\n",
       "      <td>0.000095</td>\n",
       "      <td>0.0897</td>\n",
       "      <td>0.334</td>\n",
       "      <td>171.005</td>\n",
       "      <td>200040</td>\n",
       "      <td>R&amp;B/Soul</td>\n",
       "    </tr>\n",
       "    <tr>\n",
       "      <th>1</th>\n",
       "      <td>1</td>\n",
       "      <td>Tones And I</td>\n",
       "      <td>Dance Monkey</td>\n",
       "      <td>Dance Monkey</td>\n",
       "      <td>1rgnBhdG2JDFTbYkYRZAku</td>\n",
       "      <td>0.593</td>\n",
       "      <td>0.825</td>\n",
       "      <td>6</td>\n",
       "      <td>-6.401</td>\n",
       "      <td>0.68800</td>\n",
       "      <td>0.0988</td>\n",
       "      <td>0.000161</td>\n",
       "      <td>0.1700</td>\n",
       "      <td>0.540</td>\n",
       "      <td>98.078</td>\n",
       "      <td>209755</td>\n",
       "      <td>Alternative/Indie</td>\n",
       "    </tr>\n",
       "    <tr>\n",
       "      <th>2</th>\n",
       "      <td>2</td>\n",
       "      <td>Roddy Ricch</td>\n",
       "      <td>Please Excuse Me For Being Antisocial</td>\n",
       "      <td>The Box</td>\n",
       "      <td>0nbXyq5TXYPCO7pr3N8S4I</td>\n",
       "      <td>0.586</td>\n",
       "      <td>0.896</td>\n",
       "      <td>10</td>\n",
       "      <td>-6.687</td>\n",
       "      <td>0.10400</td>\n",
       "      <td>0.0559</td>\n",
       "      <td>0.000000</td>\n",
       "      <td>0.7900</td>\n",
       "      <td>0.642</td>\n",
       "      <td>116.971</td>\n",
       "      <td>196653</td>\n",
       "      <td>Hip-Hop/Rap</td>\n",
       "    </tr>\n",
       "    <tr>\n",
       "      <th>3</th>\n",
       "      <td>3</td>\n",
       "      <td>SAINt JHN</td>\n",
       "      <td>Roses (Imanbek Remix)</td>\n",
       "      <td>Roses - Imanbek Remix</td>\n",
       "      <td>2Wo6QQD1KMDWeFkkjLqwx5</td>\n",
       "      <td>0.721</td>\n",
       "      <td>0.785</td>\n",
       "      <td>8</td>\n",
       "      <td>-5.457</td>\n",
       "      <td>0.01490</td>\n",
       "      <td>0.0506</td>\n",
       "      <td>0.004320</td>\n",
       "      <td>0.2850</td>\n",
       "      <td>0.894</td>\n",
       "      <td>121.962</td>\n",
       "      <td>176219</td>\n",
       "      <td>Dance/Electronic</td>\n",
       "    </tr>\n",
       "    <tr>\n",
       "      <th>4</th>\n",
       "      <td>4</td>\n",
       "      <td>Dua Lipa</td>\n",
       "      <td>Future Nostalgia</td>\n",
       "      <td>Don't Start Now</td>\n",
       "      <td>3PfIrDoz19wz7qK7tYeu62</td>\n",
       "      <td>0.793</td>\n",
       "      <td>0.793</td>\n",
       "      <td>11</td>\n",
       "      <td>-4.521</td>\n",
       "      <td>0.01230</td>\n",
       "      <td>0.0830</td>\n",
       "      <td>0.000000</td>\n",
       "      <td>0.0951</td>\n",
       "      <td>0.679</td>\n",
       "      <td>123.950</td>\n",
       "      <td>183290</td>\n",
       "      <td>Nu-disco</td>\n",
       "    </tr>\n",
       "  </tbody>\n",
       "</table>\n",
       "</div>"
      ],
      "text/plain": [
       "   Unnamed: 0       artist                                  album  \\\n",
       "0           0   The Weeknd                            After Hours   \n",
       "1           1  Tones And I                           Dance Monkey   \n",
       "2           2  Roddy Ricch  Please Excuse Me For Being Antisocial   \n",
       "3           3    SAINt JHN                  Roses (Imanbek Remix)   \n",
       "4           4     Dua Lipa                       Future Nostalgia   \n",
       "\n",
       "              track_name                track_id  energy  danceability  key  \\\n",
       "0        Blinding Lights  0VjIjW4GlUZAMYd2vXMi3b   0.730         0.514    1   \n",
       "1           Dance Monkey  1rgnBhdG2JDFTbYkYRZAku   0.593         0.825    6   \n",
       "2                The Box  0nbXyq5TXYPCO7pr3N8S4I   0.586         0.896   10   \n",
       "3  Roses - Imanbek Remix  2Wo6QQD1KMDWeFkkjLqwx5   0.721         0.785    8   \n",
       "4        Don't Start Now  3PfIrDoz19wz7qK7tYeu62   0.793         0.793   11   \n",
       "\n",
       "   loudness  acousticness  speechiness  instrumentalness  liveness  valence  \\\n",
       "0    -5.934       0.00146       0.0598          0.000095    0.0897    0.334   \n",
       "1    -6.401       0.68800       0.0988          0.000161    0.1700    0.540   \n",
       "2    -6.687       0.10400       0.0559          0.000000    0.7900    0.642   \n",
       "3    -5.457       0.01490       0.0506          0.004320    0.2850    0.894   \n",
       "4    -4.521       0.01230       0.0830          0.000000    0.0951    0.679   \n",
       "\n",
       "     tempo  duration_ms              genre  \n",
       "0  171.005       200040           R&B/Soul  \n",
       "1   98.078       209755  Alternative/Indie  \n",
       "2  116.971       196653        Hip-Hop/Rap  \n",
       "3  121.962       176219   Dance/Electronic  \n",
       "4  123.950       183290           Nu-disco  "
      ]
     },
     "execution_count": 2,
     "metadata": {},
     "output_type": "execute_result"
    }
   ],
   "source": [
    "file_path ='/kaggle/input/top-50-spotify-tracks-2020/spotifytoptracks.csv'\n",
    "df = pd.read_csv(file_path)\n",
    "df.head()"
   ]
  },
  {
   "cell_type": "code",
   "execution_count": 3,
   "id": "4d86d6b1",
   "metadata": {
    "execution": {
     "iopub.execute_input": "2024-02-05T10:49:03.714762Z",
     "iopub.status.busy": "2024-02-05T10:49:03.713919Z",
     "iopub.status.idle": "2024-02-05T10:49:03.744778Z",
     "shell.execute_reply": "2024-02-05T10:49:03.743437Z"
    },
    "papermill": {
     "duration": 0.052716,
     "end_time": "2024-02-05T10:49:03.747846",
     "exception": false,
     "start_time": "2024-02-05T10:49:03.695130",
     "status": "completed"
    },
    "tags": []
   },
   "outputs": [
    {
     "name": "stdout",
     "output_type": "stream",
     "text": [
      "<class 'pandas.core.frame.DataFrame'>\n",
      "RangeIndex: 50 entries, 0 to 49\n",
      "Data columns (total 17 columns):\n",
      " #   Column            Non-Null Count  Dtype  \n",
      "---  ------            --------------  -----  \n",
      " 0   Unnamed: 0        50 non-null     int64  \n",
      " 1   artist            50 non-null     object \n",
      " 2   album             50 non-null     object \n",
      " 3   track_name        50 non-null     object \n",
      " 4   track_id          50 non-null     object \n",
      " 5   energy            50 non-null     float64\n",
      " 6   danceability      50 non-null     float64\n",
      " 7   key               50 non-null     int64  \n",
      " 8   loudness          50 non-null     float64\n",
      " 9   acousticness      50 non-null     float64\n",
      " 10  speechiness       50 non-null     float64\n",
      " 11  instrumentalness  50 non-null     float64\n",
      " 12  liveness          50 non-null     float64\n",
      " 13  valence           50 non-null     float64\n",
      " 14  tempo             50 non-null     float64\n",
      " 15  duration_ms       50 non-null     int64  \n",
      " 16  genre             50 non-null     object \n",
      "dtypes: float64(9), int64(3), object(5)\n",
      "memory usage: 6.8+ KB\n"
     ]
    }
   ],
   "source": [
    "df.info()"
   ]
  },
  {
   "cell_type": "markdown",
   "id": "0c619071",
   "metadata": {
    "papermill": {
     "duration": 0.016549,
     "end_time": "2024-02-05T10:49:03.783091",
     "exception": false,
     "start_time": "2024-02-05T10:49:03.766542",
     "status": "completed"
    },
    "tags": []
   },
   "source": [
    "c) In aim to clean  data I use formula for checking if the are missing values (0 value in sum) and removing outliers"
   ]
  },
  {
   "cell_type": "code",
   "execution_count": 4,
   "id": "8e9ccaae",
   "metadata": {
    "execution": {
     "iopub.execute_input": "2024-02-05T10:49:03.822093Z",
     "iopub.status.busy": "2024-02-05T10:49:03.821653Z",
     "iopub.status.idle": "2024-02-05T10:49:03.830736Z",
     "shell.execute_reply": "2024-02-05T10:49:03.829793Z"
    },
    "papermill": {
     "duration": 0.031011,
     "end_time": "2024-02-05T10:49:03.833055",
     "exception": false,
     "start_time": "2024-02-05T10:49:03.802044",
     "status": "completed"
    },
    "tags": []
   },
   "outputs": [
    {
     "data": {
      "text/plain": [
       "Unnamed: 0          0\n",
       "artist              0\n",
       "album               0\n",
       "track_name          0\n",
       "track_id            0\n",
       "energy              0\n",
       "danceability        0\n",
       "key                 0\n",
       "loudness            0\n",
       "acousticness        0\n",
       "speechiness         0\n",
       "instrumentalness    0\n",
       "liveness            0\n",
       "valence             0\n",
       "tempo               0\n",
       "duration_ms         0\n",
       "genre               0\n",
       "dtype: int64"
      ]
     },
     "execution_count": 4,
     "metadata": {},
     "output_type": "execute_result"
    }
   ],
   "source": [
    "df.isnull().sum()"
   ]
  },
  {
   "cell_type": "markdown",
   "id": "6db8f32e",
   "metadata": {
    "papermill": {
     "duration": 0.017734,
     "end_time": "2024-02-05T10:49:03.867824",
     "exception": false,
     "start_time": "2024-02-05T10:49:03.850090",
     "status": "completed"
    },
    "tags": []
   },
   "source": [
    "The system didn't find any missing values"
   ]
  },
  {
   "cell_type": "code",
   "execution_count": 5,
   "id": "8ec93ad6",
   "metadata": {
    "_cell_guid": "b1076dfc-b9ad-4769-8c92-a6c4dae69d19",
    "_uuid": "8f2839f25d086af736a60e9eeb907d3b93b6e0e5",
    "execution": {
     "iopub.execute_input": "2024-02-05T10:49:03.906309Z",
     "iopub.status.busy": "2024-02-05T10:49:03.905600Z",
     "iopub.status.idle": "2024-02-05T10:49:03.952440Z",
     "shell.execute_reply": "2024-02-05T10:49:03.951332Z"
    },
    "papermill": {
     "duration": 0.069136,
     "end_time": "2024-02-05T10:49:03.955646",
     "exception": false,
     "start_time": "2024-02-05T10:49:03.886510",
     "status": "completed"
    },
    "tags": []
   },
   "outputs": [
    {
     "name": "stdout",
     "output_type": "stream",
     "text": [
      "<class 'pandas.core.frame.DataFrame'>\n",
      "Index: 29 entries, 4 to 46\n",
      "Data columns (total 17 columns):\n",
      " #   Column            Non-Null Count  Dtype  \n",
      "---  ------            --------------  -----  \n",
      " 0   Unnamed: 0        29 non-null     int64  \n",
      " 1   artist            29 non-null     object \n",
      " 2   album             29 non-null     object \n",
      " 3   track_name        29 non-null     object \n",
      " 4   track_id          29 non-null     object \n",
      " 5   energy            29 non-null     float64\n",
      " 6   danceability      29 non-null     float64\n",
      " 7   key               29 non-null     int64  \n",
      " 8   loudness          29 non-null     float64\n",
      " 9   acousticness      29 non-null     float64\n",
      " 10  speechiness       29 non-null     float64\n",
      " 11  instrumentalness  29 non-null     float64\n",
      " 12  liveness          29 non-null     float64\n",
      " 13  valence           29 non-null     float64\n",
      " 14  tempo             29 non-null     float64\n",
      " 15  duration_ms       29 non-null     int64  \n",
      " 16  genre             29 non-null     object \n",
      "dtypes: float64(9), int64(3), object(5)\n",
      "memory usage: 4.1+ KB\n",
      "None\n"
     ]
    }
   ],
   "source": [
    "\n",
    "df_without_outliers = df.copy(deep=True)\n",
    "\n",
    "for col in (df_without_outliers.columns):\n",
    "    if df_without_outliers[col].dtype != 'object':\n",
    "        Q1 = df_without_outliers[col].quantile(0.25)\n",
    "        Q3 = df_without_outliers[col].quantile(0.75)\n",
    "        IQR = Q3 - Q1\n",
    "        cond = (df_without_outliers[col] >= Q1 - 1.5 * IQR) & (df_without_outliers[col] <= Q3 + 1.5 * IQR)\n",
    "        df_without_outliers = df_without_outliers[cond]\n",
    "\n",
    "print(df_without_outliers.info())        "
   ]
  },
  {
   "cell_type": "markdown",
   "id": "907910ec",
   "metadata": {
    "papermill": {
     "duration": 0.016847,
     "end_time": "2024-02-05T10:49:03.990719",
     "exception": false,
     "start_time": "2024-02-05T10:49:03.973872",
     "status": "completed"
    },
    "tags": []
   },
   "source": [
    "After detailed verification and analysis of data there is no outliers in the dataset"
   ]
  },
  {
   "cell_type": "markdown",
   "id": "0b2e37d0",
   "metadata": {
    "papermill": {
     "duration": 0.017113,
     "end_time": "2024-02-05T10:49:04.026212",
     "exception": false,
     "start_time": "2024-02-05T10:49:04.009099",
     "status": "completed"
    },
    "tags": []
   },
   "source": [
    "#  2.  Analysis"
   ]
  },
  {
   "cell_type": "markdown",
   "id": "1ac86994",
   "metadata": {
    "papermill": {
     "duration": 0.086079,
     "end_time": "2024-02-05T10:49:04.130780",
     "exception": false,
     "start_time": "2024-02-05T10:49:04.044701",
     "status": "completed"
    },
    "tags": []
   },
   "source": [
    "# Step 1: Basic Information about the Dataset"
   ]
  },
  {
   "cell_type": "markdown",
   "id": "b9e6ee2a",
   "metadata": {
    "papermill": {
     "duration": 0.017307,
     "end_time": "2024-02-05T10:49:04.165552",
     "exception": false,
     "start_time": "2024-02-05T10:49:04.148245",
     "status": "completed"
    },
    "tags": []
   },
   "source": [
    "a) To start anaylisys I has verified no of observation (in rows) and features (in columns)"
   ]
  },
  {
   "cell_type": "code",
   "execution_count": 6,
   "id": "179bd3be",
   "metadata": {
    "_cell_guid": "b1076dfc-b9ad-4769-8c92-a6c4dae69d19",
    "_uuid": "8f2839f25d086af736a60e9eeb907d3b93b6e0e5",
    "execution": {
     "iopub.execute_input": "2024-02-05T10:49:04.204729Z",
     "iopub.status.busy": "2024-02-05T10:49:04.203807Z",
     "iopub.status.idle": "2024-02-05T10:49:04.216851Z",
     "shell.execute_reply": "2024-02-05T10:49:04.215635Z"
    },
    "papermill": {
     "duration": 0.036257,
     "end_time": "2024-02-05T10:49:04.219705",
     "exception": false,
     "start_time": "2024-02-05T10:49:04.183448",
     "status": "completed"
    },
    "tags": []
   },
   "outputs": [
    {
     "name": "stdout",
     "output_type": "stream",
     "text": [
      "<class 'pandas.core.frame.DataFrame'>\n",
      "RangeIndex: 50 entries, 0 to 49\n",
      "Data columns (total 17 columns):\n",
      " #   Column            Non-Null Count  Dtype  \n",
      "---  ------            --------------  -----  \n",
      " 0   Unnamed: 0        50 non-null     int64  \n",
      " 1   artist            50 non-null     object \n",
      " 2   album             50 non-null     object \n",
      " 3   track_name        50 non-null     object \n",
      " 4   track_id          50 non-null     object \n",
      " 5   energy            50 non-null     float64\n",
      " 6   danceability      50 non-null     float64\n",
      " 7   key               50 non-null     int64  \n",
      " 8   loudness          50 non-null     float64\n",
      " 9   acousticness      50 non-null     float64\n",
      " 10  speechiness       50 non-null     float64\n",
      " 11  instrumentalness  50 non-null     float64\n",
      " 12  liveness          50 non-null     float64\n",
      " 13  valence           50 non-null     float64\n",
      " 14  tempo             50 non-null     float64\n",
      " 15  duration_ms       50 non-null     int64  \n",
      " 16  genre             50 non-null     object \n",
      "dtypes: float64(9), int64(3), object(5)\n",
      "memory usage: 6.8+ KB\n"
     ]
    }
   ],
   "source": [
    "df.info()"
   ]
  },
  {
   "cell_type": "markdown",
   "id": "76733f25",
   "metadata": {
    "papermill": {
     "duration": 0.018817,
     "end_time": "2024-02-05T10:49:04.256367",
     "exception": false,
     "start_time": "2024-02-05T10:49:04.237550",
     "status": "completed"
    },
    "tags": []
   },
   "source": [
    "# Step 2: Identifying Categorical and Numeric Features"
   ]
  },
  {
   "cell_type": "markdown",
   "id": "6d6c9164",
   "metadata": {
    "papermill": {
     "duration": 0.018211,
     "end_time": "2024-02-05T10:49:04.291981",
     "exception": false,
     "start_time": "2024-02-05T10:49:04.273770",
     "status": "completed"
    },
    "tags": []
   },
   "source": [
    "To identify numeric and categorical features I use dtype function.\n",
    "This approach uses select_dtypes method from pandas, which allows to select columns based on their data type.  "
   ]
  },
  {
   "cell_type": "code",
   "execution_count": 7,
   "id": "24d7d7d7",
   "metadata": {
    "_cell_guid": "b1076dfc-b9ad-4769-8c92-a6c4dae69d19",
    "_uuid": "8f2839f25d086af736a60e9eeb907d3b93b6e0e5",
    "execution": {
     "iopub.execute_input": "2024-02-05T10:49:04.331956Z",
     "iopub.status.busy": "2024-02-05T10:49:04.330867Z",
     "iopub.status.idle": "2024-02-05T10:49:04.340256Z",
     "shell.execute_reply": "2024-02-05T10:49:04.338888Z"
    },
    "papermill": {
     "duration": 0.031887,
     "end_time": "2024-02-05T10:49:04.342992",
     "exception": false,
     "start_time": "2024-02-05T10:49:04.311105",
     "status": "completed"
    },
    "tags": []
   },
   "outputs": [
    {
     "data": {
      "text/plain": [
       "Unnamed: 0            int64\n",
       "artist               object\n",
       "album                object\n",
       "track_name           object\n",
       "track_id             object\n",
       "energy              float64\n",
       "danceability        float64\n",
       "key                   int64\n",
       "loudness            float64\n",
       "acousticness        float64\n",
       "speechiness         float64\n",
       "instrumentalness    float64\n",
       "liveness            float64\n",
       "valence             float64\n",
       "tempo               float64\n",
       "duration_ms           int64\n",
       "genre                object\n",
       "dtype: object"
      ]
     },
     "execution_count": 7,
     "metadata": {},
     "output_type": "execute_result"
    }
   ],
   "source": [
    "(df.dtypes)"
   ]
  },
  {
   "cell_type": "markdown",
   "id": "e66a5097",
   "metadata": {
    "papermill": {
     "duration": 0.017991,
     "end_time": "2024-02-05T10:49:04.379149",
     "exception": false,
     "start_time": "2024-02-05T10:49:04.361158",
     "status": "completed"
    },
    "tags": []
   },
   "source": [
    "Based on the output from data.dtypes, I provide identification which columns are categorical (typically object type) and which are numeric (like int64, float64)."
   ]
  },
  {
   "cell_type": "markdown",
   "id": "42ca7fbb",
   "metadata": {
    "papermill": {
     "duration": 0.019188,
     "end_time": "2024-02-05T10:49:04.416071",
     "exception": false,
     "start_time": "2024-02-05T10:49:04.396883",
     "status": "completed"
    },
    "tags": []
   },
   "source": [
    "# Step 3: Analyzing Specific Questions"
   ]
  },
  {
   "cell_type": "markdown",
   "id": "19120cca",
   "metadata": {
    "papermill": {
     "duration": 0.017385,
     "end_time": "2024-02-05T10:49:04.452106",
     "exception": false,
     "start_time": "2024-02-05T10:49:04.434721",
     "status": "completed"
    },
    "tags": []
   },
   "source": [
    "To perform analysis of specific questions I conducted analysis of:\n",
    "\n",
    "# 1.  Artists with more than 1 Popular Track \n",
    "I counted the number of tracks per artists and then calculated artisits with more that 1 track"
   ]
  },
  {
   "cell_type": "code",
   "execution_count": 8,
   "id": "e51ff935",
   "metadata": {
    "_cell_guid": "b1076dfc-b9ad-4769-8c92-a6c4dae69d19",
    "_uuid": "8f2839f25d086af736a60e9eeb907d3b93b6e0e5",
    "execution": {
     "iopub.execute_input": "2024-02-05T10:49:04.492479Z",
     "iopub.status.busy": "2024-02-05T10:49:04.491318Z",
     "iopub.status.idle": "2024-02-05T10:49:04.500031Z",
     "shell.execute_reply": "2024-02-05T10:49:04.498687Z"
    },
    "papermill": {
     "duration": 0.033378,
     "end_time": "2024-02-05T10:49:04.503386",
     "exception": false,
     "start_time": "2024-02-05T10:49:04.470008",
     "status": "completed"
    },
    "tags": []
   },
   "outputs": [
    {
     "name": "stdout",
     "output_type": "stream",
     "text": [
      "artist\n",
      "Billie Eilish    3\n",
      "Dua Lipa         3\n",
      "Travis Scott     3\n",
      "Justin Bieber    2\n",
      "Harry Styles     2\n",
      "Lewis Capaldi    2\n",
      "Post Malone      2\n",
      "Name: count, dtype: int64\n"
     ]
    }
   ],
   "source": [
    "artist_counts = df['artist'].value_counts()\n",
    "popular_artists = artist_counts[artist_counts > 1]\n",
    "print(popular_artists)"
   ]
  },
  {
   "cell_type": "markdown",
   "id": "eeadcfd8",
   "metadata": {
    "papermill": {
     "duration": 0.020545,
     "end_time": "2024-02-05T10:49:04.543537",
     "exception": false,
     "start_time": "2024-02-05T10:49:04.522992",
     "status": "completed"
    },
    "tags": []
   },
   "source": [
    "Seven artists have more than one track"
   ]
  },
  {
   "cell_type": "markdown",
   "id": "ad870cb4",
   "metadata": {
    "papermill": {
     "duration": 0.018141,
     "end_time": "2024-02-05T10:49:04.581067",
     "exception": false,
     "start_time": "2024-02-05T10:49:04.562926",
     "status": "completed"
    },
    "tags": []
   },
   "source": [
    "# 2. Analysis of the most popular artist"
   ]
  },
  {
   "cell_type": "code",
   "execution_count": 9,
   "id": "b7b0f2c0",
   "metadata": {
    "_cell_guid": "b1076dfc-b9ad-4769-8c92-a6c4dae69d19",
    "_uuid": "8f2839f25d086af736a60e9eeb907d3b93b6e0e5",
    "execution": {
     "iopub.execute_input": "2024-02-05T10:49:04.622711Z",
     "iopub.status.busy": "2024-02-05T10:49:04.622205Z",
     "iopub.status.idle": "2024-02-05T10:49:04.628354Z",
     "shell.execute_reply": "2024-02-05T10:49:04.627331Z"
    },
    "papermill": {
     "duration": 0.031082,
     "end_time": "2024-02-05T10:49:04.631257",
     "exception": false,
     "start_time": "2024-02-05T10:49:04.600175",
     "status": "completed"
    },
    "tags": []
   },
   "outputs": [
    {
     "name": "stdout",
     "output_type": "stream",
     "text": [
      "The most popular artist is: Billie Eilish\n"
     ]
    }
   ],
   "source": [
    "most_popular_artist = artist_counts.idxmax()\n",
    "print(f\"The most popular artist is: {most_popular_artist}\")"
   ]
  },
  {
   "cell_type": "markdown",
   "id": "261fc446",
   "metadata": {
    "papermill": {
     "duration": 0.018662,
     "end_time": "2024-02-05T10:49:04.669630",
     "exception": false,
     "start_time": "2024-02-05T10:49:04.650968",
     "status": "completed"
    },
    "tags": []
   },
   "source": [
    "The most popluarartists are those with 3 tracks: \n",
    "* Billie Eilish    \n",
    "* Dua Lipa         \n",
    "* Travis Scott*"
   ]
  },
  {
   "cell_type": "markdown",
   "id": "063a9a47",
   "metadata": {
    "papermill": {
     "duration": 0.019449,
     "end_time": "2024-02-05T10:49:04.708716",
     "exception": false,
     "start_time": "2024-02-05T10:49:04.689267",
     "status": "completed"
    },
    "tags": []
   },
   "source": [
    "# 3. Analysis of  total Number of Unique Artists"
   ]
  },
  {
   "cell_type": "code",
   "execution_count": 10,
   "id": "e7126751",
   "metadata": {
    "_cell_guid": "b1076dfc-b9ad-4769-8c92-a6c4dae69d19",
    "_uuid": "8f2839f25d086af736a60e9eeb907d3b93b6e0e5",
    "execution": {
     "iopub.execute_input": "2024-02-05T10:49:04.749836Z",
     "iopub.status.busy": "2024-02-05T10:49:04.749350Z",
     "iopub.status.idle": "2024-02-05T10:49:04.756071Z",
     "shell.execute_reply": "2024-02-05T10:49:04.754691Z"
    },
    "papermill": {
     "duration": 0.029078,
     "end_time": "2024-02-05T10:49:04.758757",
     "exception": false,
     "start_time": "2024-02-05T10:49:04.729679",
     "status": "completed"
    },
    "tags": []
   },
   "outputs": [
    {
     "name": "stdout",
     "output_type": "stream",
     "text": [
      "Total number of unique artists: 40\n"
     ]
    }
   ],
   "source": [
    "total_artists = df['artist'].nunique()\n",
    "print(f\"Total number of unique artists: {total_artists}\")"
   ]
  },
  {
   "cell_type": "markdown",
   "id": "ed804971",
   "metadata": {
    "papermill": {
     "duration": 0.020788,
     "end_time": "2024-02-05T10:49:04.801702",
     "exception": false,
     "start_time": "2024-02-05T10:49:04.780914",
     "status": "completed"
    },
    "tags": []
   },
   "source": [
    "# 4 Albums with More than 1 Popular Track"
   ]
  },
  {
   "cell_type": "markdown",
   "id": "8ffbefe8",
   "metadata": {
    "papermill": {
     "duration": 0.022938,
     "end_time": "2024-02-05T10:49:04.847795",
     "exception": false,
     "start_time": "2024-02-05T10:49:04.824857",
     "status": "completed"
    },
    "tags": []
   },
   "source": [
    "Assuming there's an 'album' column"
   ]
  },
  {
   "cell_type": "code",
   "execution_count": 11,
   "id": "1c4de318",
   "metadata": {
    "_cell_guid": "b1076dfc-b9ad-4769-8c92-a6c4dae69d19",
    "_uuid": "8f2839f25d086af736a60e9eeb907d3b93b6e0e5",
    "execution": {
     "iopub.execute_input": "2024-02-05T10:49:04.899528Z",
     "iopub.status.busy": "2024-02-05T10:49:04.897860Z",
     "iopub.status.idle": "2024-02-05T10:49:04.910389Z",
     "shell.execute_reply": "2024-02-05T10:49:04.908955Z"
    },
    "jupyter": {
     "source_hidden": true
    },
    "papermill": {
     "duration": 0.045714,
     "end_time": "2024-02-05T10:49:04.914559",
     "exception": false,
     "start_time": "2024-02-05T10:49:04.868845",
     "status": "completed"
    },
    "tags": []
   },
   "outputs": [
    {
     "name": "stdout",
     "output_type": "stream",
     "text": [
      "album\n",
      "Future Nostalgia        3\n",
      "Hollywood's Bleeding    2\n",
      "Fine Line               2\n",
      "Changes                 2\n",
      "Name: count, dtype: int64\n"
     ]
    }
   ],
   "source": [
    "\n",
    "# Assuming there's an 'album' column\n",
    "album_counts = df['album'].value_counts()\n",
    "popular_albums = album_counts[album_counts > 1]\n",
    "print(popular_albums)"
   ]
  },
  {
   "cell_type": "markdown",
   "id": "3813f2ef",
   "metadata": {
    "papermill": {
     "duration": 0.020919,
     "end_time": "2024-02-05T10:49:04.961117",
     "exception": false,
     "start_time": "2024-02-05T10:49:04.940198",
     "status": "completed"
    },
    "tags": []
   },
   "source": [
    "There are 4 albums with more than 3 tracks**"
   ]
  },
  {
   "cell_type": "markdown",
   "id": "993e9f14",
   "metadata": {
    "papermill": {
     "duration": 0.019981,
     "end_time": "2024-02-05T10:49:05.000992",
     "exception": false,
     "start_time": "2024-02-05T10:49:04.981011",
     "status": "completed"
    },
    "tags": []
   },
   "source": [
    "# 5.  Total Number of Unique Albums"
   ]
  },
  {
   "cell_type": "code",
   "execution_count": 12,
   "id": "d886505d",
   "metadata": {
    "_cell_guid": "b1076dfc-b9ad-4769-8c92-a6c4dae69d19",
    "_uuid": "8f2839f25d086af736a60e9eeb907d3b93b6e0e5",
    "execution": {
     "iopub.execute_input": "2024-02-05T10:49:05.042420Z",
     "iopub.status.busy": "2024-02-05T10:49:05.041388Z",
     "iopub.status.idle": "2024-02-05T10:49:05.048433Z",
     "shell.execute_reply": "2024-02-05T10:49:05.047195Z"
    },
    "papermill": {
     "duration": 0.03093,
     "end_time": "2024-02-05T10:49:05.050949",
     "exception": false,
     "start_time": "2024-02-05T10:49:05.020019",
     "status": "completed"
    },
    "tags": []
   },
   "outputs": [
    {
     "name": "stdout",
     "output_type": "stream",
     "text": [
      "Total number of unique albums: 45\n"
     ]
    }
   ],
   "source": [
    "\n",
    "total_albums = df['album'].nunique()\n",
    "print(f\"Total number of unique albums: {total_albums}\")"
   ]
  },
  {
   "cell_type": "markdown",
   "id": "fe25c623",
   "metadata": {
    "papermill": {
     "duration": 0.018673,
     "end_time": "2024-02-05T10:49:05.089491",
     "exception": false,
     "start_time": "2024-02-05T10:49:05.070818",
     "status": "completed"
    },
    "tags": []
   },
   "source": [
    "# 6. Tracks with Specific Danceability Scores\n",
    "Danceability score above 0.7"
   ]
  },
  {
   "cell_type": "code",
   "execution_count": 13,
   "id": "487a3833",
   "metadata": {
    "_cell_guid": "b1076dfc-b9ad-4769-8c92-a6c4dae69d19",
    "_uuid": "8f2839f25d086af736a60e9eeb907d3b93b6e0e5",
    "execution": {
     "iopub.execute_input": "2024-02-05T10:49:05.129828Z",
     "iopub.status.busy": "2024-02-05T10:49:05.129377Z",
     "iopub.status.idle": "2024-02-05T10:49:05.137794Z",
     "shell.execute_reply": "2024-02-05T10:49:05.136537Z"
    },
    "papermill": {
     "duration": 0.032207,
     "end_time": "2024-02-05T10:49:05.140731",
     "exception": false,
     "start_time": "2024-02-05T10:49:05.108524",
     "status": "completed"
    },
    "tags": []
   },
   "outputs": [
    {
     "name": "stdout",
     "output_type": "stream",
     "text": [
      "Tracks with high danceability:\n",
      " 1                                      Dance Monkey\n",
      "2                                           The Box\n",
      "3                             Roses - Imanbek Remix\n",
      "4                                   Don't Start Now\n",
      "5                      ROCKSTAR (feat. Roddy Ricch)\n",
      "7                  death bed (coffee for your head)\n",
      "8                                           Falling\n",
      "10                                             Tusa\n",
      "13                                  Blueberry Faygo\n",
      "14                         Intentions (feat. Quavo)\n",
      "15                                     Toosie Slide\n",
      "17                                           Say So\n",
      "18                                         Memories\n",
      "19                       Life Is Good (feat. Drake)\n",
      "20                 Savage Love (Laxed - Siren Beat)\n",
      "22                                      Breaking Me\n",
      "24                              everything i wanted\n",
      "25                                         Señorita\n",
      "26                                          bad guy\n",
      "27                  WAP (feat. Megan Thee Stallion)\n",
      "28                                      Sunday Best\n",
      "29                      Godzilla (feat. Juice WRLD)\n",
      "31                                   Break My Heart\n",
      "32                                         Dynamite\n",
      "33                 Supalonely (feat. Gus Dapperton)\n",
      "37    Sunflower - Spider-Man: Into the Spider-Verse\n",
      "38                                            Hawái\n",
      "39                                          Ride It\n",
      "40                                       goosebumps\n",
      "41                        RITMO (Bad Boys For Life)\n",
      "42                                       THE SCOTTS\n",
      "49                                       SICKO MODE\n",
      "Name: track_name, dtype: object\n"
     ]
    }
   ],
   "source": [
    "\n",
    "high_danceability = df[df['danceability'] > 0.7]['track_name']\n",
    "print(\"Tracks with high danceability:\\n\", high_danceability)"
   ]
  },
  {
   "cell_type": "markdown",
   "id": "2362f8b6",
   "metadata": {
    "papermill": {
     "duration": 0.023406,
     "end_time": "2024-02-05T10:49:05.182665",
     "exception": false,
     "start_time": "2024-02-05T10:49:05.159259",
     "status": "completed"
    },
    "tags": []
   },
   "source": [
    "# 7. Danceability score below 0.4"
   ]
  },
  {
   "cell_type": "code",
   "execution_count": 14,
   "id": "929eff3c",
   "metadata": {
    "_cell_guid": "b1076dfc-b9ad-4769-8c92-a6c4dae69d19",
    "_uuid": "8f2839f25d086af736a60e9eeb907d3b93b6e0e5",
    "execution": {
     "iopub.execute_input": "2024-02-05T10:49:05.227350Z",
     "iopub.status.busy": "2024-02-05T10:49:05.226932Z",
     "iopub.status.idle": "2024-02-05T10:49:05.235149Z",
     "shell.execute_reply": "2024-02-05T10:49:05.233776Z"
    },
    "papermill": {
     "duration": 0.033131,
     "end_time": "2024-02-05T10:49:05.238506",
     "exception": false,
     "start_time": "2024-02-05T10:49:05.205375",
     "status": "completed"
    },
    "tags": []
   },
   "outputs": [
    {
     "name": "stdout",
     "output_type": "stream",
     "text": [
      "Tracks with low danceability: 44    lovely (with Khalid)\n",
      "Name: track_name, dtype: object\n"
     ]
    }
   ],
   "source": [
    "\n",
    "low_danceability = df[df['danceability'] < 0.4]['track_name']\n",
    "print(\"Tracks with low danceability:\", low_danceability)"
   ]
  },
  {
   "cell_type": "markdown",
   "id": "46a9f01c",
   "metadata": {
    "papermill": {
     "duration": 0.022884,
     "end_time": "2024-02-05T10:49:05.280312",
     "exception": false,
     "start_time": "2024-02-05T10:49:05.257428",
     "status": "completed"
    },
    "tags": []
   },
   "source": [
    "# 8. Tracks with Specific Loudness Levels\n",
    "a) Loudness above -5"
   ]
  },
  {
   "cell_type": "code",
   "execution_count": 15,
   "id": "d2d1ae45",
   "metadata": {
    "_cell_guid": "b1076dfc-b9ad-4769-8c92-a6c4dae69d19",
    "_uuid": "8f2839f25d086af736a60e9eeb907d3b93b6e0e5",
    "execution": {
     "iopub.execute_input": "2024-02-05T10:49:05.323391Z",
     "iopub.status.busy": "2024-02-05T10:49:05.321765Z",
     "iopub.status.idle": "2024-02-05T10:49:05.331373Z",
     "shell.execute_reply": "2024-02-05T10:49:05.329968Z"
    },
    "papermill": {
     "duration": 0.033953,
     "end_time": "2024-02-05T10:49:05.334203",
     "exception": false,
     "start_time": "2024-02-05T10:49:05.300250",
     "status": "completed"
    },
    "tags": []
   },
   "outputs": [
    {
     "name": "stdout",
     "output_type": "stream",
     "text": [
      "Loud tracks: 4                                   Don't Start Now\n",
      "6                                  Watermelon Sugar\n",
      "10                                             Tusa\n",
      "12                                          Circles\n",
      "16                                    Before You Go\n",
      "17                                           Say So\n",
      "21                                        Adore You\n",
      "23                           Mood (feat. iann dior)\n",
      "31                                   Break My Heart\n",
      "32                                         Dynamite\n",
      "33                 Supalonely (feat. Gus Dapperton)\n",
      "35                  Rain On Me (with Ariana Grande)\n",
      "37    Sunflower - Spider-Man: Into the Spider-Verse\n",
      "38                                            Hawái\n",
      "39                                          Ride It\n",
      "40                                       goosebumps\n",
      "43                                          Safaera\n",
      "48                                         Physical\n",
      "49                                       SICKO MODE\n",
      "Name: track_name, dtype: object\n"
     ]
    }
   ],
   "source": [
    "\n",
    "loud_tracks = df[df['loudness'] > -5]['track_name']\n",
    "print(\"Loud tracks:\", loud_tracks)"
   ]
  },
  {
   "cell_type": "markdown",
   "id": "69c8cccc",
   "metadata": {
    "papermill": {
     "duration": 0.019968,
     "end_time": "2024-02-05T10:49:05.374165",
     "exception": false,
     "start_time": "2024-02-05T10:49:05.354197",
     "status": "completed"
    },
    "tags": []
   },
   "source": [
    "b) Loudness below -8"
   ]
  },
  {
   "cell_type": "code",
   "execution_count": 16,
   "id": "aa2926c5",
   "metadata": {
    "_cell_guid": "b1076dfc-b9ad-4769-8c92-a6c4dae69d19",
    "_uuid": "8f2839f25d086af736a60e9eeb907d3b93b6e0e5",
    "execution": {
     "iopub.execute_input": "2024-02-05T10:49:05.415771Z",
     "iopub.status.busy": "2024-02-05T10:49:05.415296Z",
     "iopub.status.idle": "2024-02-05T10:49:05.424442Z",
     "shell.execute_reply": "2024-02-05T10:49:05.423170Z"
    },
    "papermill": {
     "duration": 0.033401,
     "end_time": "2024-02-05T10:49:05.427628",
     "exception": false,
     "start_time": "2024-02-05T10:49:05.394227",
     "status": "completed"
    },
    "tags": []
   },
   "outputs": [
    {
     "name": "stdout",
     "output_type": "stream",
     "text": [
      "Quiet tracks: 7                   death bed (coffee for your head)\n",
      "8                                            Falling\n",
      "15                                      Toosie Slide\n",
      "20                  Savage Love (Laxed - Siren Beat)\n",
      "24                               everything i wanted\n",
      "26                                           bad guy\n",
      "36                               HIGHEST IN THE ROOM\n",
      "44                              lovely (with Khalid)\n",
      "47    If the World Was Ending - feat. Julia Michaels\n",
      "Name: track_name, dtype: object\n"
     ]
    }
   ],
   "source": [
    "\n",
    "quiet_tracks = df[df['loudness'] < -8]['track_name']\n",
    "print(\"Quiet tracks:\", quiet_tracks)"
   ]
  },
  {
   "cell_type": "markdown",
   "id": "416a8c8c",
   "metadata": {
    "papermill": {
     "duration": 0.018399,
     "end_time": "2024-02-05T10:49:05.464751",
     "exception": false,
     "start_time": "2024-02-05T10:49:05.446352",
     "status": "completed"
    },
    "tags": []
   },
   "source": [
    "# 9. Longest and Shortest Track"
   ]
  },
  {
   "cell_type": "code",
   "execution_count": 17,
   "id": "e9bbebfe",
   "metadata": {
    "_cell_guid": "b1076dfc-b9ad-4769-8c92-a6c4dae69d19",
    "_uuid": "8f2839f25d086af736a60e9eeb907d3b93b6e0e5",
    "execution": {
     "iopub.execute_input": "2024-02-05T10:49:05.505372Z",
     "iopub.status.busy": "2024-02-05T10:49:05.504961Z",
     "iopub.status.idle": "2024-02-05T10:49:05.515128Z",
     "shell.execute_reply": "2024-02-05T10:49:05.513654Z"
    },
    "papermill": {
     "duration": 0.034904,
     "end_time": "2024-02-05T10:49:05.518377",
     "exception": false,
     "start_time": "2024-02-05T10:49:05.483473",
     "status": "completed"
    },
    "tags": []
   },
   "outputs": [
    {
     "name": "stdout",
     "output_type": "stream",
     "text": [
      "Longest track: SICKO MODE\n",
      "Shortest track: Mood (feat. iann dior)\n"
     ]
    }
   ],
   "source": [
    "\n",
    "longest_track = df[df['duration_ms'] == df['duration_ms'].max()]['track_name']\n",
    "shortest_track = df[df['duration_ms'] == df['duration_ms'].min()]['track_name']\n",
    "print(\"Longest track:\", longest_track.iloc[0])\n",
    "print(\"Shortest track:\", shortest_track.iloc[0])"
   ]
  },
  {
   "cell_type": "markdown",
   "id": "794286cc",
   "metadata": {
    "papermill": {
     "duration": 0.020852,
     "end_time": "2024-02-05T10:49:05.558930",
     "exception": false,
     "start_time": "2024-02-05T10:49:05.538078",
     "status": "completed"
    },
    "tags": []
   },
   "source": [
    "# 10. Popularity of Genres"
   ]
  },
  {
   "cell_type": "code",
   "execution_count": 18,
   "id": "f3a81d33",
   "metadata": {
    "_cell_guid": "b1076dfc-b9ad-4769-8c92-a6c4dae69d19",
    "_uuid": "8f2839f25d086af736a60e9eeb907d3b93b6e0e5",
    "execution": {
     "iopub.execute_input": "2024-02-05T10:49:05.608121Z",
     "iopub.status.busy": "2024-02-05T10:49:05.607436Z",
     "iopub.status.idle": "2024-02-05T10:49:05.616958Z",
     "shell.execute_reply": "2024-02-05T10:49:05.615652Z"
    },
    "papermill": {
     "duration": 0.040353,
     "end_time": "2024-02-05T10:49:05.621421",
     "exception": false,
     "start_time": "2024-02-05T10:49:05.581068",
     "status": "completed"
    },
    "tags": []
   },
   "outputs": [
    {
     "name": "stdout",
     "output_type": "stream",
     "text": [
      "genre\n",
      "Pop                                   14\n",
      "Hip-Hop/Rap                           13\n",
      "Dance/Electronic                       5\n",
      "Alternative/Indie                      4\n",
      "R&B/Soul                               2\n",
      " Electro-pop                           2\n",
      "Nu-disco                               1\n",
      "R&B/Hip-Hop alternative                1\n",
      "Pop/Soft Rock                          1\n",
      "Pop rap                                1\n",
      "Hip-Hop/Trap                           1\n",
      "Dance-pop/Disco                        1\n",
      "Disco-pop                              1\n",
      "Dreampop/Hip-Hop/R&B                   1\n",
      "Alternative/reggaeton/experimental     1\n",
      "Chamber pop                            1\n",
      "Name: count, dtype: int64\n"
     ]
    }
   ],
   "source": [
    "\n",
    "genre_counts = df['genre'].value_counts()\n",
    "print(genre_counts)"
   ]
  },
  {
   "cell_type": "markdown",
   "id": "8bea29f2",
   "metadata": {
    "papermill": {
     "duration": 0.02079,
     "end_time": "2024-02-05T10:49:05.666144",
     "exception": false,
     "start_time": "2024-02-05T10:49:05.645354",
     "status": "completed"
    },
    "tags": []
   },
   "source": [
    "# 11.Most popular genre"
   ]
  },
  {
   "cell_type": "code",
   "execution_count": 19,
   "id": "efaea7ea",
   "metadata": {
    "_cell_guid": "b1076dfc-b9ad-4769-8c92-a6c4dae69d19",
    "_uuid": "8f2839f25d086af736a60e9eeb907d3b93b6e0e5",
    "execution": {
     "iopub.execute_input": "2024-02-05T10:49:05.711885Z",
     "iopub.status.busy": "2024-02-05T10:49:05.711477Z",
     "iopub.status.idle": "2024-02-05T10:49:05.718121Z",
     "shell.execute_reply": "2024-02-05T10:49:05.716589Z"
    },
    "papermill": {
     "duration": 0.031969,
     "end_time": "2024-02-05T10:49:05.720915",
     "exception": false,
     "start_time": "2024-02-05T10:49:05.688946",
     "status": "completed"
    },
    "tags": []
   },
   "outputs": [
    {
     "name": "stdout",
     "output_type": "stream",
     "text": [
      "Most popular genre: Pop\n"
     ]
    }
   ],
   "source": [
    "\n",
    "most_popular_genre = genre_counts.idxmax()\n",
    "print(\"Most popular genre:\", most_popular_genre)"
   ]
  },
  {
   "cell_type": "markdown",
   "id": "4515f74c",
   "metadata": {
    "papermill": {
     "duration": 0.02096,
     "end_time": "2024-02-05T10:49:05.762782",
     "exception": false,
     "start_time": "2024-02-05T10:49:05.741822",
     "status": "completed"
    },
    "tags": []
   },
   "source": [
    "# 12. Genres with one song in the top 50"
   ]
  },
  {
   "cell_type": "code",
   "execution_count": 20,
   "id": "8e87817b",
   "metadata": {
    "_cell_guid": "b1076dfc-b9ad-4769-8c92-a6c4dae69d19",
    "_uuid": "8f2839f25d086af736a60e9eeb907d3b93b6e0e5",
    "execution": {
     "iopub.execute_input": "2024-02-05T10:49:05.807485Z",
     "iopub.status.busy": "2024-02-05T10:49:05.806720Z",
     "iopub.status.idle": "2024-02-05T10:49:05.817028Z",
     "shell.execute_reply": "2024-02-05T10:49:05.815170Z"
    },
    "papermill": {
     "duration": 0.037686,
     "end_time": "2024-02-05T10:49:05.820720",
     "exception": false,
     "start_time": "2024-02-05T10:49:05.783034",
     "status": "completed"
    },
    "tags": []
   },
   "outputs": [
    {
     "name": "stdout",
     "output_type": "stream",
     "text": [
      "Genres with only one song: genre\n",
      "Nu-disco                              1\n",
      "R&B/Hip-Hop alternative               1\n",
      "Pop/Soft Rock                         1\n",
      "Pop rap                               1\n",
      "Hip-Hop/Trap                          1\n",
      "Dance-pop/Disco                       1\n",
      "Disco-pop                             1\n",
      "Dreampop/Hip-Hop/R&B                  1\n",
      "Alternative/reggaeton/experimental    1\n",
      "Chamber pop                           1\n",
      "Name: count, dtype: int64\n"
     ]
    }
   ],
   "source": [
    "\n",
    "one_hit_genres = genre_counts[genre_counts == 1]\n",
    "print(\"Genres with only one song:\", one_hit_genres)"
   ]
  },
  {
   "cell_type": "markdown",
   "id": "de88e7b5",
   "metadata": {
    "papermill": {
     "duration": 0.02103,
     "end_time": "2024-02-05T10:49:05.863267",
     "exception": false,
     "start_time": "2024-02-05T10:49:05.842237",
     "status": "completed"
    },
    "tags": []
   },
   "source": [
    "# 13. Genres in total in the top 50"
   ]
  },
  {
   "cell_type": "code",
   "execution_count": 21,
   "id": "670ac47e",
   "metadata": {
    "_cell_guid": "b1076dfc-b9ad-4769-8c92-a6c4dae69d19",
    "_uuid": "8f2839f25d086af736a60e9eeb907d3b93b6e0e5",
    "execution": {
     "iopub.execute_input": "2024-02-05T10:49:05.906765Z",
     "iopub.status.busy": "2024-02-05T10:49:05.906297Z",
     "iopub.status.idle": "2024-02-05T10:49:05.916046Z",
     "shell.execute_reply": "2024-02-05T10:49:05.915030Z"
    },
    "papermill": {
     "duration": 0.034079,
     "end_time": "2024-02-05T10:49:05.918711",
     "exception": false,
     "start_time": "2024-02-05T10:49:05.884632",
     "status": "completed"
    },
    "tags": []
   },
   "outputs": [
    {
     "name": "stdout",
     "output_type": "stream",
     "text": [
      "Total number of genres: 16\n"
     ]
    }
   ],
   "source": [
    "\n",
    "print(\"Total number of genres:\", df['genre'].nunique())"
   ]
  },
  {
   "cell_type": "markdown",
   "id": "074253ef",
   "metadata": {
    "papermill": {
     "duration": 0.020166,
     "end_time": "2024-02-05T10:49:05.961827",
     "exception": false,
     "start_time": "2024-02-05T10:49:05.941661",
     "status": "completed"
    },
    "tags": []
   },
   "source": [
    "# 14. Dataframe with only features"
   ]
  },
  {
   "cell_type": "code",
   "execution_count": 22,
   "id": "b887ee31",
   "metadata": {
    "_cell_guid": "b1076dfc-b9ad-4769-8c92-a6c4dae69d19",
    "_uuid": "8f2839f25d086af736a60e9eeb907d3b93b6e0e5",
    "execution": {
     "iopub.execute_input": "2024-02-05T10:49:06.004886Z",
     "iopub.status.busy": "2024-02-05T10:49:06.004206Z",
     "iopub.status.idle": "2024-02-05T10:49:06.027482Z",
     "shell.execute_reply": "2024-02-05T10:49:06.026035Z"
    },
    "papermill": {
     "duration": 0.0482,
     "end_time": "2024-02-05T10:49:06.030214",
     "exception": false,
     "start_time": "2024-02-05T10:49:05.982014",
     "status": "completed"
    },
    "tags": []
   },
   "outputs": [
    {
     "name": "stdout",
     "output_type": "stream",
     "text": [
      "<class 'pandas.core.frame.DataFrame'>\n",
      "RangeIndex: 50 entries, 0 to 49\n",
      "Data columns (total 12 columns):\n",
      " #   Column            Non-Null Count  Dtype  \n",
      "---  ------            --------------  -----  \n",
      " 0   Unnamed: 0        50 non-null     int64  \n",
      " 1   energy            50 non-null     float64\n",
      " 2   danceability      50 non-null     float64\n",
      " 3   key               50 non-null     int64  \n",
      " 4   loudness          50 non-null     float64\n",
      " 5   acousticness      50 non-null     float64\n",
      " 6   speechiness       50 non-null     float64\n",
      " 7   instrumentalness  50 non-null     float64\n",
      " 8   liveness          50 non-null     float64\n",
      " 9   valence           50 non-null     float64\n",
      " 10  tempo             50 non-null     float64\n",
      " 11  duration_ms       50 non-null     int64  \n",
      "dtypes: float64(9), int64(3)\n",
      "memory usage: 4.8 KB\n",
      "None\n"
     ]
    }
   ],
   "source": [
    "\n",
    "features_df = df.copy(deep=True)\n",
    "\n",
    "for col in (features_df.columns):\n",
    "    if features_df[col].dtype == 'object':\n",
    "        features_df = features_df.drop(columns=[col])\n",
    "\n",
    "print(features_df.info())"
   ]
  },
  {
   "cell_type": "markdown",
   "id": "dbbf4ee5",
   "metadata": {
    "papermill": {
     "duration": 0.019963,
     "end_time": "2024-02-05T10:49:06.070921",
     "exception": false,
     "start_time": "2024-02-05T10:49:06.050958",
     "status": "completed"
    },
    "tags": []
   },
   "source": [
    "# 15. Correlation analysis"
   ]
  },
  {
   "cell_type": "code",
   "execution_count": 23,
   "id": "336d8bfd",
   "metadata": {
    "execution": {
     "iopub.execute_input": "2024-02-05T10:49:06.114037Z",
     "iopub.status.busy": "2024-02-05T10:49:06.113603Z",
     "iopub.status.idle": "2024-02-05T10:49:08.545613Z",
     "shell.execute_reply": "2024-02-05T10:49:08.544298Z"
    },
    "papermill": {
     "duration": 2.456754,
     "end_time": "2024-02-05T10:49:08.548642",
     "exception": false,
     "start_time": "2024-02-05T10:49:06.091888",
     "status": "completed"
    },
    "tags": []
   },
   "outputs": [
    {
     "data": {
      "image/png": "[encoded data removed]",
      "text/plain": [
       "<Figure size 640x480 with 2 Axes>"
      ]
     },
     "metadata": {},
     "output_type": "display_data"
    }
   ],
   "source": [
    "import seaborn as sns\n",
    "import matplotlib.pyplot as plt\n",
    "correlation_matrix = features_df.corr()\n",
    "\n",
    "sns.heatmap(correlation_matrix, annot=True)\n",
    "plt.show()"
   ]
  },
  {
   "cell_type": "markdown",
   "id": "a338e215",
   "metadata": {
    "papermill": {
     "duration": 0.022216,
     "end_time": "2024-02-05T10:49:08.594362",
     "exception": false,
     "start_time": "2024-02-05T10:49:08.572146",
     "status": "completed"
    },
    "tags": []
   },
   "source": [
    "# 16. Features strongly positively correlated"
   ]
  },
  {
   "cell_type": "code",
   "execution_count": 24,
   "id": "04d39024",
   "metadata": {
    "_cell_guid": "b1076dfc-b9ad-4769-8c92-a6c4dae69d19",
    "_uuid": "8f2839f25d086af736a60e9eeb907d3b93b6e0e5",
    "execution": {
     "iopub.execute_input": "2024-02-05T10:49:08.643224Z",
     "iopub.status.busy": "2024-02-05T10:49:08.642780Z",
     "iopub.status.idle": "2024-02-05T10:49:08.655838Z",
     "shell.execute_reply": "2024-02-05T10:49:08.654900Z"
    },
    "papermill": {
     "duration": 0.041025,
     "end_time": "2024-02-05T10:49:08.658530",
     "exception": false,
     "start_time": "2024-02-05T10:49:08.617505",
     "status": "completed"
    },
    "tags": []
   },
   "outputs": [
    {
     "name": "stdout",
     "output_type": "stream",
     "text": [
      "\n",
      "Features strongly positively correlated:\n",
      "                   energy  loudness\n",
      "Unnamed: 0            NaN       NaN\n",
      "energy                NaN   0.79164\n",
      "danceability          NaN       NaN\n",
      "key                   NaN       NaN\n",
      "loudness          0.79164       NaN\n",
      "acousticness          NaN       NaN\n",
      "speechiness           NaN       NaN\n",
      "instrumentalness      NaN       NaN\n",
      "liveness              NaN       NaN\n",
      "valence               NaN       NaN\n",
      "tempo                 NaN       NaN\n",
      "duration_ms           NaN       NaN\n"
     ]
    }
   ],
   "source": [
    "\n",
    "positivly = (correlation_matrix[(correlation_matrix > 0.65) & (correlation_matrix < 1.0)])\n",
    "print(\"\\nFeatures strongly positively correlated:\")\n",
    "print(positivly.dropna(axis=1, how='all'))"
   ]
  },
  {
   "cell_type": "markdown",
   "id": "cc2519dd",
   "metadata": {
    "papermill": {
     "duration": 0.022276,
     "end_time": "2024-02-05T10:49:08.704393",
     "exception": false,
     "start_time": "2024-02-05T10:49:08.682117",
     "status": "completed"
    },
    "tags": []
   },
   "source": [
    "# 17. Features strongly negatively correlated"
   ]
  },
  {
   "cell_type": "code",
   "execution_count": 25,
   "id": "a0e7d624",
   "metadata": {
    "execution": {
     "iopub.execute_input": "2024-02-05T10:49:08.750921Z",
     "iopub.status.busy": "2024-02-05T10:49:08.749808Z",
     "iopub.status.idle": "2024-02-05T10:49:08.762922Z",
     "shell.execute_reply": "2024-02-05T10:49:08.761477Z"
    },
    "papermill": {
     "duration": 0.039273,
     "end_time": "2024-02-05T10:49:08.765733",
     "exception": false,
     "start_time": "2024-02-05T10:49:08.726460",
     "status": "completed"
    },
    "tags": []
   },
   "outputs": [
    {
     "name": "stdout",
     "output_type": "stream",
     "text": [
      "\n",
      "Features strongly negatively correlated:\n",
      "                    energy  loudness  acousticness  instrumentalness\n",
      "Unnamed: 0             NaN       NaN           NaN               NaN\n",
      "energy                 NaN       NaN     -0.682479               NaN\n",
      "danceability           NaN       NaN           NaN               NaN\n",
      "key                    NaN       NaN           NaN               NaN\n",
      "loudness               NaN       NaN           NaN         -0.553735\n",
      "acousticness     -0.682479       NaN           NaN               NaN\n",
      "speechiness            NaN       NaN           NaN               NaN\n",
      "instrumentalness       NaN -0.553735           NaN               NaN\n",
      "liveness               NaN       NaN           NaN               NaN\n",
      "valence                NaN       NaN           NaN               NaN\n",
      "tempo                  NaN       NaN           NaN               NaN\n",
      "duration_ms            NaN       NaN           NaN               NaN\n"
     ]
    }
   ],
   "source": [
    "\n",
    "positivly = (correlation_matrix[(correlation_matrix < -0.5) & (correlation_matrix > -1.0)])\n",
    "print(\"\\nFeatures strongly negatively correlated:\")\n",
    "print(positivly.dropna(axis=1, how='all'))"
   ]
  },
  {
   "cell_type": "markdown",
   "id": "4195ae83",
   "metadata": {
    "papermill": {
     "duration": 0.023603,
     "end_time": "2024-02-05T10:49:08.811847",
     "exception": false,
     "start_time": "2024-02-05T10:49:08.788244",
     "status": "completed"
    },
    "tags": []
   },
   "source": [
    "# 18.Features not correlated"
   ]
  },
  {
   "cell_type": "code",
   "execution_count": 26,
   "id": "a1a72aea",
   "metadata": {
    "execution": {
     "iopub.execute_input": "2024-02-05T10:49:08.864398Z",
     "iopub.status.busy": "2024-02-05T10:49:08.863585Z",
     "iopub.status.idle": "2024-02-05T10:49:08.878213Z",
     "shell.execute_reply": "2024-02-05T10:49:08.876793Z"
    },
    "papermill": {
     "duration": 0.043111,
     "end_time": "2024-02-05T10:49:08.881055",
     "exception": false,
     "start_time": "2024-02-05T10:49:08.837944",
     "status": "completed"
    },
    "tags": []
   },
   "outputs": [
    {
     "name": "stdout",
     "output_type": "stream",
     "text": [
      "\n",
      "Pairs of features not correlated:\n",
      "                  Unnamed: 0  energy  danceability    key  loudness  \\\n",
      "Unnamed: 0             False    True          True   True      True   \n",
      "energy                  True   False          True   True     False   \n",
      "danceability            True    True         False   True      True   \n",
      "key                     True    True          True  False      True   \n",
      "loudness                True   False          True   True     False   \n",
      "acousticness            True   False         False   True     False   \n",
      "speechiness             True    True          True   True      True   \n",
      "instrumentalness        True   False          True   True     False   \n",
      "liveness                True    True          True   True      True   \n",
      "valence                 True   False         False   True     False   \n",
      "tempo                   True    True          True   True      True   \n",
      "duration_ms            False    True          True   True      True   \n",
      "\n",
      "                  acousticness  speechiness  instrumentalness  liveness  \\\n",
      "Unnamed: 0                True         True              True      True   \n",
      "energy                   False         True             False      True   \n",
      "danceability             False         True              True      True   \n",
      "key                       True         True              True      True   \n",
      "loudness                 False         True             False      True   \n",
      "acousticness             False         True             False      True   \n",
      "speechiness               True        False              True      True   \n",
      "instrumentalness         False         True             False      True   \n",
      "liveness                  True         True              True     False   \n",
      "valence                   True         True              True      True   \n",
      "tempo                     True         True              True      True   \n",
      "duration_ms               True        False              True      True   \n",
      "\n",
      "                  valence  tempo  duration_ms  \n",
      "Unnamed: 0           True   True        False  \n",
      "energy              False   True         True  \n",
      "danceability        False   True         True  \n",
      "key                  True   True         True  \n",
      "loudness            False   True         True  \n",
      "acousticness         True   True         True  \n",
      "speechiness          True   True        False  \n",
      "instrumentalness     True   True         True  \n",
      "liveness             True   True         True  \n",
      "valence             False   True         True  \n",
      "tempo                True  False         True  \n",
      "duration_ms          True   True        False  \n"
     ]
    }
   ],
   "source": [
    "\n",
    "corr_treshold = 0.3\n",
    "not_correlated_pairs = (correlation_matrix.abs() < corr_treshold) & (correlation_matrix.abs() > 0)\n",
    "\n",
    "print(\"\\nPairs of features not correlated:\")\n",
    "print(not_correlated_pairs)\n"
   ]
  },
  {
   "cell_type": "markdown",
   "id": "a9e6d281",
   "metadata": {
    "papermill": {
     "duration": 0.023324,
     "end_time": "2024-02-05T10:49:08.928275",
     "exception": false,
     "start_time": "2024-02-05T10:49:08.904951",
     "status": "completed"
    },
    "tags": []
   },
   "source": [
    "# 19. Comparing Scores Between Genres"
   ]
  },
  {
   "cell_type": "code",
   "execution_count": 27,
   "id": "a0c28c27",
   "metadata": {
    "execution": {
     "iopub.execute_input": "2024-02-05T10:49:08.977027Z",
     "iopub.status.busy": "2024-02-05T10:49:08.976638Z",
     "iopub.status.idle": "2024-02-05T10:49:08.993990Z",
     "shell.execute_reply": "2024-02-05T10:49:08.992640Z"
    },
    "papermill": {
     "duration": 0.045265,
     "end_time": "2024-02-05T10:49:08.997061",
     "exception": false,
     "start_time": "2024-02-05T10:49:08.951796",
     "status": "completed"
    },
    "tags": []
   },
   "outputs": [
    {
     "name": "stdout",
     "output_type": "stream",
     "text": [
      "danceability by genre:\n",
      "genre\n",
      "Alternative/Indie    0.661750\n",
      "Dance/Electronic     0.755000\n",
      "Hip-Hop/Rap          0.765538\n",
      "Pop                  0.677571\n",
      "Name: danceability, dtype: float64\n",
      "****************************************\n",
      "loudness by genre:\n",
      "genre\n",
      "Alternative/Indie   -5.421000\n",
      "Dance/Electronic    -5.338000\n",
      "Hip-Hop/Rap         -6.917846\n",
      "Pop                 -6.460357\n",
      "Name: loudness, dtype: float64\n",
      "****************************************\n",
      "acousticness by genre:\n",
      "genre\n",
      "Alternative/Indie    0.583500\n",
      "Dance/Electronic     0.099440\n",
      "Hip-Hop/Rap          0.188741\n",
      "Pop                  0.323843\n",
      "Name: acousticness, dtype: float64\n",
      "****************************************\n"
     ]
    }
   ],
   "source": [
    "# Grouping by  different scores between genres ver2\n",
    "\n",
    "genres_list = ['Pop', 'Hip-Hop/Rap', 'Dance/Electronic', 'Alternative/Indie']\n",
    "genres_df = df[df['genre'].isin(genres_list)]\n",
    "\n",
    "for feature in ['danceability', 'loudness', 'acousticness']:\n",
    "    print(f\"{feature} by genre:\")\n",
    "    print(genres_df.groupby('genre')[feature].mean())\n",
    "    print('*'*40)"
   ]
  },
  {
   "cell_type": "markdown",
   "id": "8d079516",
   "metadata": {
    "papermill": {
     "duration": 0.023016,
     "end_time": "2024-02-05T10:49:09.043518",
     "exception": false,
     "start_time": "2024-02-05T10:49:09.020502",
     "status": "completed"
    },
    "tags": []
   },
   "source": [
    "# 20. Ideas for further analysis\n",
    "\n",
    "a) comparing results by months  and selecting the best gender, artists and track\n",
    "\n",
    "b) analysis data by years to verify trends \n"
   ]
  }
 ],
 "metadata": {
  "kaggle": {
   "accelerator": "none",
   "dataSources": [
    {
     "datasetId": 1128921,
     "sourceId": 1895485,
     "sourceType": "datasetVersion"
    },
    {
     "datasetId": 4346141,
     "sourceId": 7466460,
     "sourceType": "datasetVersion"
    },
    {
     "datasetId": 4346200,
     "sourceId": 7466540,
     "sourceType": "datasetVersion"
    }
   ],
   "dockerImageVersionId": 30635,
   "isGpuEnabled": false,
   "isInternetEnabled": true,
   "language": "python",
   "sourceType": "notebook"
  },
  "kernelspec": {
   "display_name": "Python 3",
   "language": "python",
   "name": "python3"
  },
  "language_info": {
   "codemirror_mode": {
    "name": "ipython",
    "version": 3
   },
   "file_extension": ".py",
   "mimetype": "text/x-python",
   "name": "python",
   "nbconvert_exporter": "python",
   "pygments_lexer": "ipython3",
   "version": "3.10.12"
  },
  "papermill": {
   "default_parameters": {},
   "duration": 11.851531,
   "end_time": "2024-02-05T10:49:09.791030",
   "environment_variables": {},
   "exception": null,
   "input_path": "__notebook__.ipynb",
   "output_path": "__notebook__.ipynb",
   "parameters": {},
   "start_time": "2024-02-05T10:48:57.939499",
   "version": "2.4.0"
  }
 },
 "nbformat": 4,
 "nbformat_minor": 5
}
